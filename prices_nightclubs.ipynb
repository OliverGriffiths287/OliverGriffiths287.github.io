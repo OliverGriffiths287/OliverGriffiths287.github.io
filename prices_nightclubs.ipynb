{
  "nbformat": 4,
  "nbformat_minor": 0,
  "metadata": {
    "colab": {
      "provenance": [],
      "authorship_tag": "ABX9TyMrsVmtAq1Y3YJs6GGNd361",
      "include_colab_link": true
    },
    "kernelspec": {
      "name": "python3",
      "display_name": "Python 3"
    },
    "language_info": {
      "name": "python"
    }
  },
  "cells": [
    {
      "cell_type": "markdown",
      "metadata": {
        "id": "view-in-github",
        "colab_type": "text"
      },
      "source": [
        "<a href=\"https://colab.research.google.com/github/OliverGriffiths287/OliverGriffiths287.github.io/blob/main/prices_nightclubs.ipynb\" target=\"_parent\"><img src=\"https://colab.research.google.com/assets/colab-badge.svg\" alt=\"Open In Colab\"/></a>"
      ]
    },
    {
      "cell_type": "code",
      "execution_count": 11,
      "metadata": {
        "colab": {
          "base_uri": "https://localhost:8080/"
        },
        "id": "5tV8VSvNVAQd",
        "outputId": "105035e1-eb9b-4601-e8d5-682fdc5d23e3"
      },
      "outputs": [
        {
          "output_type": "stream",
          "name": "stdout",
          "text": [
            "month      object\n",
            "region     object\n",
            "price     float64\n",
            "dtype: object\n"
          ]
        }
      ],
      "source": [
        "import pandas as pd\n",
        "import csv\n",
        "\n",
        "with open('/content/prices_nightclub.csv', 'r') as file:\n",
        "    reader = csv.reader(file)\n",
        "    data = list(reader)\n",
        "\n",
        "df = pd.DataFrame(data[1:], columns=data[0])\n",
        "df.loc[df['region'] == '2', 'region'] = 'London'\n",
        "df.loc[df['region'] == '3', 'region'] = 'South East'\n",
        "df.loc[df['region'] == '4', 'region'] = 'South West'\n",
        "df.loc[df['region'] == '5', 'region'] = 'East'\n",
        "df.loc[df['region'] == '6', 'region'] = 'East Midlands'\n",
        "df.loc[df['region'] == '7', 'region'] = 'West Midlands'\n",
        "df.loc[df['region'] == '8', 'region'] = 'Yorkshire and The Humber'\n",
        "df.loc[df['region'] == '9', 'region'] = 'North West'\n",
        "df.loc[df['region'] == '10', 'region'] = 'North East '\n",
        "df.loc[df['region'] == '11', 'region'] = 'Wales'\n",
        "df.loc[df['region'] == '12', 'region'] = 'Scotland'\n",
        "df.loc[df['region'] == '13', 'region'] = 'Northern Ireland'\n",
        "df['price'] = pd.to_numeric(df['price'], errors='coerce')\n",
        "df['quote_date'] = pd.to_datetime(df['quote_date'], format= '%Y%m').dt.strftime('%Y-%m')\n",
        "df = df.rename(columns={'quote_date': 'month'})\n",
        "df.drop('item_id_raw', axis=1, inplace=True)\n",
        "df.drop('item_id', axis=1, inplace=True)\n",
        "\n",
        "print(df.dtypes)\n",
        "df\n",
        "\n",
        "df.to_csv('prices_nightclub_clean.csv', index=False)"
      ]
    }
  ]
}