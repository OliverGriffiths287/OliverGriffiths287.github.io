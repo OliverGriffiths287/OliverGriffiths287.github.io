{
 "cells": [
  {
   "cell_type": "code",
   "execution_count": null,
   "metadata": {
    "colab": {
     "base_uri": "https://localhost:8080/"
    },
    "id": "BRDSsp9X5mg-",
    "outputId": "87bb2d4f-7e9e-4000-fde6-875f69a2981c"
   },
   "outputs": [
    {
     "name": "stdout",
     "output_type": "stream",
     "text": [
      "Data has been scraped and saved to 'average_ticket_prices.csv'\n"
     ]
    }
   ],
   "source": [
    "import requests\n",
    "from bs4 import BeautifulSoup\n",
    "import csv\n",
    "\n",
    "# URL of the page to scrape\n",
    "url = \"https://seatpick.com/blog/revealed-premier-league-is-the-most-expensive-dream-in-european-football-and-the-gap-between-the-rest-of-europe-is-just-increasing\"\n",
    "\n",
    "# Send a GET request to the URL\n",
    "response = requests.get(url)\n",
    "\n",
    "# Parse the HTML content\n",
    "soup = BeautifulSoup(response.content, 'html.parser')\n",
    "\n",
    "# Find the table\n",
    "table = soup.find('table')\n",
    "\n",
    "# Extract table headers\n",
    "headers = [header.text.strip() for header in table.find_all('th')]\n",
    "\n",
    "# Extract table rows\n",
    "rows = []\n",
    "for row in table.find_all('tr')[1:]:  # Skip the header row\n",
    "    rows.append([data.text.strip() for data in row.find_all('td')])\n",
    "\n",
    "# Save the data to a CSV file\n",
    "with open('average_ticket_prices.csv', 'w', newline='', encoding='utf-8') as file:\n",
    "    writer = csv.writer(file)\n",
    "    writer.writerow(headers)\n",
    "    writer.writerows(rows)\n",
    "\n",
    "print(\"Data has been scraped and saved to 'average_ticket_prices.csv'\")"
   ]
  },
  {
   "cell_type": "code",
   "execution_count": null,
   "metadata": {
    "colab": {
     "base_uri": "https://localhost:8080/"
    },
    "id": "JrXKnkPz6JZW",
    "outputId": "f4fba17a-d9c3-4332-8811-6b566cf0ad15"
   },
   "outputs": [
    {
     "name": "stdout",
     "output_type": "stream",
     "text": [
      "Data has been transformed and saved to 'transformed_ticket_prices.csv'\n",
      "            League   Season  Value\n",
      "7       Bundesliga  2018/19   59.0\n",
      "2       Bundesliga  2019/20   65.0\n",
      "9     French Ligue  2018/19   45.0\n",
      "4     French Ligue  2019/20   49.0\n",
      "8  Italian Serie A  2018/19   65.0\n",
      "3  Italian Serie A  2019/20   56.8\n",
      "6          La Liga  2018/19   70.0\n",
      "1          La Liga  2019/20   75.0\n",
      "5   Premier League  2018/19  128.0\n",
      "0   Premier League  2019/20  138.0\n",
      "Data has been transformed and saved to 'transformed_ticket_prices.csv'\n",
      "            League   Season  Value\n",
      "7       Bundesliga  2018/19   59.0\n",
      "2       Bundesliga  2019/20   65.0\n",
      "9     French Ligue  2018/19   45.0\n",
      "4     French Ligue  2019/20   49.0\n",
      "8  Italian Serie A  2018/19   65.0\n",
      "3  Italian Serie A  2019/20   56.8\n",
      "6          La Liga  2018/19   70.0\n",
      "1          La Liga  2019/20   75.0\n",
      "5   Premier League  2018/19  128.0\n",
      "0   Premier League  2019/20  138.0\n"
     ]
    }
   ],
   "source": [
    "import pandas as pd\n",
    "import pandas as pd\n",
    "\n",
    "# Read the CSV file\n",
    "df = pd.read_csv(r\"average_ticket_prices_europe.csv\")\n",
    "\n",
    "# Melt the dataframe to create the desired format\n",
    "df_melted = df.melt(id_vars=['League'], var_name='Season', value_name='Value')\n",
    "\n",
    "# Sort the dataframe by League and Season\n",
    "df_melted = df_melted.sort_values(['League', 'Season'])\n",
    "\n",
    "# Save the transformed data to a new CSV file\n",
    "df_melted.to_csv('transformed_ticket_prices.csv', index=False)\n",
    "\n",
    "print(\"Data has been transformed and saved to 'transformed_ticket_prices.csv'\")\n",
    "print(df_melted)\n",
    "df_melted = df.melt(id_vars=['League'], var_name='Season', value_name='Value')\n",
    "\n",
    "# Sort the dataframe by League and Season\n",
    "df_melted = df_melted.sort_values(['League', 'Season'])\n",
    "\n",
    "# Save the transformed data to a new CSV file\n",
    "df_melted.to_csv('transformed_ticket_prices.csv', index=False)\n",
    "\n",
    "print(\"Data has been transformed and saved to 'transformed_ticket_prices.csv'\")\n",
    "print(df_melted)"
   ]
  }
 ],
 "metadata": {
  "colab": {
   "provenance": []
  },
  "kernelspec": {
   "display_name": "Python 3",
   "name": "python3"
  },
  "language_info": {
   "name": "python"
  }
 },
 "nbformat": 4,
 "nbformat_minor": 0
}
