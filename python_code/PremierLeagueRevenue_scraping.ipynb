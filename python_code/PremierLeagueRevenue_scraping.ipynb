{
 "cells": [
  {
   "cell_type": "code",
   "execution_count": null,
   "metadata": {
    "colab": {
     "base_uri": "https://localhost:8080/"
    },
    "id": "GdWFlRDwWxqg",
    "outputId": "169b3898-d282-4e55-8a07-5a5cce91a3d6"
   },
   "outputs": [
    {
     "name": "stdout",
     "output_type": "stream",
     "text": [
      "             Characteristic Revenue in million British pounds\n",
      "0           Manchester City                               718\n",
      "1         Manchester United                               650\n",
      "2                 Liverpool                               594\n",
      "3         Tottenham Hotspur                               549\n",
      "4                   Chelsea                               512\n",
      "5                   Arsenal                               464\n",
      "6          Newcastle United                               250\n",
      "7           West Ham United                               239\n",
      "8               Aston Villa                               212\n",
      "9    Brighton & Hove Albion                               201\n",
      "10             Leeds United                               190\n",
      "11                   Fulham                               181\n",
      "12           Crystal Palace                               180\n",
      "13           Leicester City                               177\n",
      "14                  Everton                               172\n",
      "15  Wolverhampton Wanderers                               169\n",
      "16                Brentford                               168\n",
      "17        Nottingham Forest                               155\n",
      "18              Southampton                               146\n",
      "19          AFC Bournemouth                               141\n"
     ]
    }
   ],
   "source": [
    "import requests\n",
    "from bs4 import BeautifulSoup\n",
    "import pandas as pd\n",
    "\n",
    "# URL to scrape\n",
    "url = 'https://www.statista.com/statistics/566666/premier-league-clubs-by-revenue/'\n",
    "\n",
    "# Send a GET request to the URL\n",
    "response = requests.get(url)\n",
    "\n",
    "# Check if the request was successful\n",
    "if response.status_code == 200:\n",
    "    # Parse the HTML content\n",
    "    soup = BeautifulSoup(response.content, 'html.parser')\n",
    "\n",
    "    # Find the table containing the data\n",
    "    table = soup.find('table')\n",
    "\n",
    "    # Extract table headers\n",
    "    headers = [header.text.strip() for header in table.find_all('th')]\n",
    "\n",
    "    # Extract table rows\n",
    "    data = []\n",
    "    for row in table.find_all('tr')[1:]:  # Skip the header row\n",
    "        cols = row.find_all('td')\n",
    "        cols = [col.text.strip() for col in cols]\n",
    "        data.append(cols)\n",
    "\n",
    "    # Create a DataFrame from the data\n",
    "    df = pd.DataFrame(data, columns=headers)\n",
    "\n",
    "    # Display the DataFrame\n",
    "    print(df)\n",
    "\n",
    "    # Optionally, save to a CSV file\n",
    "    df.to_csv('premier_league_revenue.csv', index=False)\n",
    "\n",
    "else:\n",
    "    print(f\"Failed to retrieve data: {response.status_code}\")\n",
    "\n",
    "\n"
   ]
  }
 ],
 "metadata": {
  "colab": {
   "provenance": []
  },
  "kernelspec": {
   "display_name": "Python 3",
   "name": "python3"
  },
  "language_info": {
   "name": "python"
  }
 },
 "nbformat": 4,
 "nbformat_minor": 0
}
