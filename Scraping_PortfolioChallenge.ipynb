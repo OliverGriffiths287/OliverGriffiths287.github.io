{
  "nbformat": 4,
  "nbformat_minor": 0,
  "metadata": {
    "colab": {
      "provenance": [],
      "authorship_tag": "ABX9TyO1MHG9dvcrEb6wOGtoJ271",
      "include_colab_link": true
    },
    "kernelspec": {
      "name": "python3",
      "display_name": "Python 3"
    },
    "language_info": {
      "name": "python"
    }
  },
  "cells": [
    {
      "cell_type": "markdown",
      "metadata": {
        "id": "view-in-github",
        "colab_type": "text"
      },
      "source": [
        "<a href=\"https://colab.research.google.com/github/OliverGriffiths287/OliverGriffiths287.github.io/blob/main/Scraping_PortfolioChallenge.ipynb\" target=\"_parent\"><img src=\"https://colab.research.google.com/assets/colab-badge.svg\" alt=\"Open In Colab\"/></a>"
      ]
    },
    {
      "cell_type": "code",
      "source": [
        "import requests\n",
        "from bs4 import BeautifulSoup\n",
        "import csv\n",
        "\n",
        "# URL of the page to scrape\n",
        "url = \"https://seatpick.com/blog/revealed-premier-league-is-the-most-expensive-dream-in-european-football-and-the-gap-between-the-rest-of-europe-is-just-increasing\"\n",
        "\n",
        "# Send a GET request to the URL\n",
        "response = requests.get(url)\n",
        "\n",
        "# Parse the HTML content\n",
        "soup = BeautifulSoup(response.content, 'html.parser')\n",
        "\n",
        "# Find the table\n",
        "table = soup.find('table')\n",
        "\n",
        "# Extract table headers\n",
        "headers = [header.text.strip() for header in table.find_all('th')]\n",
        "\n",
        "# Extract table rows\n",
        "rows = []\n",
        "for row in table.find_all('tr')[1:]:  # Skip the header row\n",
        "    rows.append([data.text.strip() for data in row.find_all('td')])\n",
        "\n",
        "# Save the data to a CSV file\n",
        "with open('average_ticket_prices.csv', 'w', newline='', encoding='utf-8') as file:\n",
        "    writer = csv.writer(file)\n",
        "    writer.writerow(headers)\n",
        "    writer.writerows(rows)\n",
        "\n",
        "print(\"Data has been scraped and saved to 'average_ticket_prices.csv'\")"
      ],
      "metadata": {
        "colab": {
          "base_uri": "https://localhost:8080/"
        },
        "id": "BRDSsp9X5mg-",
        "outputId": "87bb2d4f-7e9e-4000-fde6-875f69a2981c"
      },
      "execution_count": 15,
      "outputs": [
        {
          "output_type": "stream",
          "name": "stdout",
          "text": [
            "Data has been scraped and saved to 'average_ticket_prices.csv'\n"
          ]
        }
      ]
    },
    {
      "cell_type": "code",
      "source": [
        "import pandas as pd\n",
        "import pandas as pd\n",
        "\n",
        "# Read the CSV file\n",
        "df = pd.read_csv(r\"average_ticket_prices_europe.csv\")\n",
        "\n",
        "# Melt the dataframe to create the desired format\n",
        "df_melted = df.melt(id_vars=['League'], var_name='Season', value_name='Value')\n",
        "\n",
        "# Sort the dataframe by League and Season\n",
        "df_melted = df_melted.sort_values(['League', 'Season'])\n",
        "\n",
        "# Save the transformed data to a new CSV file\n",
        "df_melted.to_csv('transformed_ticket_prices.csv', index=False)\n",
        "\n",
        "print(\"Data has been transformed and saved to 'transformed_ticket_prices.csv'\")\n",
        "print(df_melted)\n",
        "df_melted = df.melt(id_vars=['League'], var_name='Season', value_name='Value')\n",
        "\n",
        "# Sort the dataframe by League and Season\n",
        "df_melted = df_melted.sort_values(['League', 'Season'])\n",
        "\n",
        "# Save the transformed data to a new CSV file\n",
        "df_melted.to_csv('transformed_ticket_prices.csv', index=False)\n",
        "\n",
        "print(\"Data has been transformed and saved to 'transformed_ticket_prices.csv'\")\n",
        "print(df_melted)"
      ],
      "metadata": {
        "colab": {
          "base_uri": "https://localhost:8080/"
        },
        "id": "JrXKnkPz6JZW",
        "outputId": "5cdde87c-fe07-457f-c90c-bc75d5f9cc55"
      },
      "execution_count": 19,
      "outputs": [
        {
          "output_type": "stream",
          "name": "stdout",
          "text": [
            "Data has been transformed and saved to 'transformed_ticket_prices.csv'\n",
            "            League   Season  Value\n",
            "2       Bundesliga  2018/19   65.0\n",
            "7       Bundesliga  2019/20   59.0\n",
            "4     French Ligue  2018/19   49.0\n",
            "9     French Ligue  2019/20   45.0\n",
            "3  Italian Serie A  2018/19   56.8\n",
            "8  Italian Serie A  2019/20   65.0\n",
            "1          La Liga  2018/19   75.0\n",
            "6          La Liga  2019/20   70.0\n",
            "0   Premier League  2018/19  138.0\n",
            "5   Premier League  2019/20  128.0\n",
            "Data has been transformed and saved to 'transformed_ticket_prices.csv'\n",
            "            League   Season  Value\n",
            "2       Bundesliga  2018/19   65.0\n",
            "7       Bundesliga  2019/20   59.0\n",
            "4     French Ligue  2018/19   49.0\n",
            "9     French Ligue  2019/20   45.0\n",
            "3  Italian Serie A  2018/19   56.8\n",
            "8  Italian Serie A  2019/20   65.0\n",
            "1          La Liga  2018/19   75.0\n",
            "6          La Liga  2019/20   70.0\n",
            "0   Premier League  2018/19  138.0\n",
            "5   Premier League  2019/20  128.0\n"
          ]
        }
      ]
    }
  ]
}